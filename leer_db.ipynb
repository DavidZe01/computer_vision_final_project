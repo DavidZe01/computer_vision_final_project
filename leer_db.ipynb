{
 "cells": [
  {
   "cell_type": "code",
   "execution_count": 1,
   "metadata": {},
   "outputs": [],
   "source": [
    "import sqlite3\n",
    "import pandas as pd"
   ]
  },
  {
   "cell_type": "code",
   "execution_count": 8,
   "metadata": {},
   "outputs": [],
   "source": [
    "conexion = sqlite3.connect('db/detected_plates.db')\n",
    "nombre_tabla = 'detected_plates'"
   ]
  },
  {
   "cell_type": "code",
   "execution_count": 9,
   "metadata": {},
   "outputs": [],
   "source": [
    "df = pd.read_sql_query(f'SELECT * FROM {nombre_tabla}', conexion)\n",
    "conexion.close()"
   ]
  },
  {
   "cell_type": "code",
   "execution_count": 10,
   "metadata": {},
   "outputs": [
    {
     "data": {
      "text/html": [
       "<div>\n",
       "<style scoped>\n",
       "    .dataframe tbody tr th:only-of-type {\n",
       "        vertical-align: middle;\n",
       "    }\n",
       "\n",
       "    .dataframe tbody tr th {\n",
       "        vertical-align: top;\n",
       "    }\n",
       "\n",
       "    .dataframe thead th {\n",
       "        text-align: right;\n",
       "    }\n",
       "</style>\n",
       "<table border=\"1\" class=\"dataframe\">\n",
       "  <thead>\n",
       "    <tr style=\"text-align: right;\">\n",
       "      <th></th>\n",
       "      <th>id</th>\n",
       "      <th>plate_text</th>\n",
       "      <th>plate_image_base64</th>\n",
       "      <th>detection_date</th>\n",
       "    </tr>\n",
       "  </thead>\n",
       "  <tbody>\n",
       "    <tr>\n",
       "      <th>0</th>\n",
       "      <td>1</td>\n",
       "      <td>CZR263</td>\n",
       "      <td>iVBORw0KGgoAAAANSUhEUgAAARIAAAC2CAAAAAAwpl2zAA...</td>\n",
       "      <td>2024-11-08 18:00:50</td>\n",
       "    </tr>\n",
       "    <tr>\n",
       "      <th>1</th>\n",
       "      <td>2</td>\n",
       "      <td>CZR263</td>\n",
       "      <td>iVBORw0KGgoAAAANSUhEUgAAATYAAADWCAAAAAB+5PFDAA...</td>\n",
       "      <td>2024-11-08 18:49:35</td>\n",
       "    </tr>\n",
       "    <tr>\n",
       "      <th>2</th>\n",
       "      <td>3</td>\n",
       "      <td>CZR263</td>\n",
       "      <td>iVBORw0KGgoAAAANSUhEUgAAASIAAADBCAAAAABOcuLyAA...</td>\n",
       "      <td>2024-11-08 18:49:38</td>\n",
       "    </tr>\n",
       "    <tr>\n",
       "      <th>3</th>\n",
       "      <td>4</td>\n",
       "      <td>AGH430</td>\n",
       "      <td>iVBORw0KGgoAAAANSUhEUgAAASYAAACKCAAAAAAiBrgnAA...</td>\n",
       "      <td>2024-11-08 18:49:47</td>\n",
       "    </tr>\n",
       "  </tbody>\n",
       "</table>\n",
       "</div>"
      ],
      "text/plain": [
       "   id plate_text                                 plate_image_base64  \\\n",
       "0   1     CZR263  iVBORw0KGgoAAAANSUhEUgAAARIAAAC2CAAAAAAwpl2zAA...   \n",
       "1   2     CZR263  iVBORw0KGgoAAAANSUhEUgAAATYAAADWCAAAAAB+5PFDAA...   \n",
       "2   3     CZR263  iVBORw0KGgoAAAANSUhEUgAAASIAAADBCAAAAABOcuLyAA...   \n",
       "3   4     AGH430  iVBORw0KGgoAAAANSUhEUgAAASYAAACKCAAAAAAiBrgnAA...   \n",
       "\n",
       "        detection_date  \n",
       "0  2024-11-08 18:00:50  \n",
       "1  2024-11-08 18:49:35  \n",
       "2  2024-11-08 18:49:38  \n",
       "3  2024-11-08 18:49:47  "
      ]
     },
     "execution_count": 10,
     "metadata": {},
     "output_type": "execute_result"
    }
   ],
   "source": [
    "df"
   ]
  }
 ],
 "metadata": {
  "kernelspec": {
   "display_name": "vision_estesi",
   "language": "python",
   "name": "python3"
  },
  "language_info": {
   "codemirror_mode": {
    "name": "ipython",
    "version": 3
   },
   "file_extension": ".py",
   "mimetype": "text/x-python",
   "name": "python",
   "nbconvert_exporter": "python",
   "pygments_lexer": "ipython3",
   "version": "3.12.3"
  }
 },
 "nbformat": 4,
 "nbformat_minor": 2
}
